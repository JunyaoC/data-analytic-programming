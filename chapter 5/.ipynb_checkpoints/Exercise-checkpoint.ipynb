{
 "cells": [
  {
   "cell_type": "markdown",
   "metadata": {},
   "source": [
    "### Exercise"
   ]
  },
  {
   "cell_type": "code",
   "execution_count": 11,
   "metadata": {},
   "outputs": [],
   "source": [
    "import re\n",
    "import pandas as pd\n",
    "# as an example, the text following show portion of the information the staff name, the date they joined the company\n",
    "# the date they left the company, and their email address.\n",
    "\n",
    "text = \"\"\"Dave 2008-09-20 2020-05-31 dave@google.com\n",
    "Steve 2009-01-23 2020-04-30 steve@gmail.com \n",
    "Rob 2007-02-14 2020-04-30 rob@gmail.com \n",
    "Ryan 2010-02-11 2020-03-10 ryan@yahoo.com\n",
    "\"\"\""
   ]
  },
  {
   "cell_type": "markdown",
   "metadata": {},
   "source": [
    "Ultimate Goal: Process the string above and save into a data frame with the column names: \"Name, Date Join, Date Left, Email\"\n",
    "<br>\n",
    "<br>\n",
    "#### OPTION A:\n",
    "<b>STEP 1:</b> try get each individual information from the text using `re.split()`\n",
    "<br>\n",
    "You should get something like following:\n",
    "<br>\n",
    "`['Dave',\n",
    " '2008-09-20',\n",
    " '2020-05-31',\n",
    " 'dave@google.com',\n",
    " 'Steve',\n",
    " '2009-01-23',\n",
    " '2020-04-30',\n",
    " 'steve@gmail.com',\n",
    " 'Rob',\n",
    " '2007-02-14',\n",
    " '2020-04-30',\n",
    " 'rob@gmail.com',\n",
    " 'Ryan',\n",
    " '2010-02-11',\n",
    " '2020-03-10',\n",
    " 'ryan@yahoo.com',\n",
    " '']`\n",
    " \n",
    " <br>\n"
   ]
  },
  {
   "cell_type": "code",
   "execution_count": 12,
   "metadata": {},
   "outputs": [
    {
     "data": {
      "text/plain": [
       "['Dave',\n",
       " '2008-09-20',\n",
       " '2020-05-31',\n",
       " 'dave@google.com',\n",
       " 'Steve',\n",
       " '2009-01-23',\n",
       " '2020-04-30',\n",
       " 'steve@gmail.com',\n",
       " '',\n",
       " 'Rob',\n",
       " '2007-02-14',\n",
       " '2020-04-30',\n",
       " 'rob@gmail.com',\n",
       " '',\n",
       " 'Ryan',\n",
       " '2010-02-11',\n",
       " '2020-03-10',\n",
       " 'ryan@yahoo.com',\n",
       " '']"
      ]
     },
     "execution_count": 12,
     "metadata": {},
     "output_type": "execute_result"
    }
   ],
   "source": [
    "splitted = re.split(\"\\s\",text)\n",
    "splitted"
   ]
  },
  {
   "cell_type": "markdown",
   "metadata": {},
   "source": [
    "#### OPTION A:\n",
    "\n",
    "<b>STEP 2:</b> Now, think about it, based on the output above, try generate a data frame from it,  with the column names: \"Name, Date Join, Date Left, Email\". It is still able to convert to data frame but it could be a tedious process. "
   ]
  },
  {
   "cell_type": "code",
   "execution_count": 13,
   "metadata": {},
   "outputs": [
    {
     "data": {
      "text/html": [
       "<div>\n",
       "<style scoped>\n",
       "    .dataframe tbody tr th:only-of-type {\n",
       "        vertical-align: middle;\n",
       "    }\n",
       "\n",
       "    .dataframe tbody tr th {\n",
       "        vertical-align: top;\n",
       "    }\n",
       "\n",
       "    .dataframe thead th {\n",
       "        text-align: right;\n",
       "    }\n",
       "</style>\n",
       "<table border=\"1\" class=\"dataframe\">\n",
       "  <thead>\n",
       "    <tr style=\"text-align: right;\">\n",
       "      <th></th>\n",
       "      <th>Name</th>\n",
       "      <th>Date Join</th>\n",
       "      <th>Date Left</th>\n",
       "      <th>Email</th>\n",
       "    </tr>\n",
       "  </thead>\n",
       "  <tbody>\n",
       "    <tr>\n",
       "      <th>0</th>\n",
       "      <td>Dave</td>\n",
       "      <td>2008-09-20</td>\n",
       "      <td>2020-05-31</td>\n",
       "      <td>dave@google.com</td>\n",
       "    </tr>\n",
       "    <tr>\n",
       "      <th>1</th>\n",
       "      <td>Steve</td>\n",
       "      <td>2009-01-23</td>\n",
       "      <td>2020-04-30</td>\n",
       "      <td>steve@gmail.com</td>\n",
       "    </tr>\n",
       "    <tr>\n",
       "      <th>2</th>\n",
       "      <td>Rob</td>\n",
       "      <td>2007-02-14</td>\n",
       "      <td>2020-04-30</td>\n",
       "      <td>rob@gmail.com</td>\n",
       "    </tr>\n",
       "    <tr>\n",
       "      <th>3</th>\n",
       "      <td>Ryan</td>\n",
       "      <td>2010-02-11</td>\n",
       "      <td>2020-03-10</td>\n",
       "      <td>ryan@yahoo.com</td>\n",
       "    </tr>\n",
       "  </tbody>\n",
       "</table>\n",
       "</div>"
      ],
      "text/plain": [
       "    Name   Date Join   Date Left            Email\n",
       "0   Dave  2008-09-20  2020-05-31  dave@google.com\n",
       "1  Steve  2009-01-23  2020-04-30  steve@gmail.com\n",
       "2    Rob  2007-02-14  2020-04-30    rob@gmail.com\n",
       "3   Ryan  2010-02-11  2020-03-10   ryan@yahoo.com"
      ]
     },
     "metadata": {},
     "output_type": "display_data"
    }
   ],
   "source": [
    "splitted = [ x for x in splitted if len(x) > 1]\n",
    "\n",
    "dfList = []\n",
    "count = 0\n",
    "for x in range(0,len(splitted)):\n",
    "    if count == 0:\n",
    "        newDict = {\n",
    "            'Name':splitted[x]\n",
    "        }\n",
    "        count = count + 1\n",
    "        continue\n",
    "    if count == 1:\n",
    "        newDict['Date Join'] = splitted[x]\n",
    "        count = count + 1\n",
    "        continue\n",
    "    if count == 2:\n",
    "        newDict['Date Left'] = splitted[x]\n",
    "        count = count + 1\n",
    "        continue\n",
    "    if count == 3:\n",
    "        newDict['Email'] = splitted[x]\n",
    "        dfList.append(newDict)\n",
    "        count = 0\n",
    "        continue\n",
    "\n",
    "df = pd.DataFrame(dfList)\n",
    "display(df)\n",
    "\n"
   ]
  },
  {
   "cell_type": "markdown",
   "metadata": {},
   "source": [
    "On the other hand, <br><br>\n",
    "#### OPTION B:\n",
    "STEP 1: try to get each individual information from text using regular expression pattern find.\n",
    "<br>\n",
    "You should get something like following:\n",
    "<br>\n",
    "`['Dave 2008-09-20 2020-05-31 dave@google.com',\n",
    " 'Steve 2009-01-23 2020-04-30 steve@gmail.com',\n",
    " 'Rob 2007-02-14 2020-04-30 rob@gmail.com',\n",
    " 'Ryan 2010-02-11 2020-03-10 ryan@yahoo.com']`\n",
    " "
   ]
  },
  {
   "cell_type": "code",
   "execution_count": 31,
   "metadata": {},
   "outputs": [
    {
     "data": {
      "text/plain": [
       "['Dave 2008-09-20 2020-05-31 dave@google.com',\n",
       " 'Steve 2009-01-23 2020-04-30 steve@gmail.com ',\n",
       " 'Rob 2007-02-14 2020-04-30 rob@gmail.com ',\n",
       " 'Ryan 2010-02-11 2020-03-10 ryan@yahoo.com']"
      ]
     },
     "execution_count": 31,
     "metadata": {},
     "output_type": "execute_result"
    }
   ],
   "source": [
    "splitted = re.split(\"\\n\",text)\n",
    "splitted = [ x for x in splitted if len(x) > 1]\n",
    "splitted"
   ]
  },
  {
   "cell_type": "markdown",
   "metadata": {},
   "source": [
    "#### OPTION B:\n",
    "<b>STEP 2:</b> Now, this could be an easier process than from output of OPTION 1 to convert to a Data Frame with the column names: \"Name, Date Join, Date Left, Email\". Give it a try."
   ]
  },
  {
   "cell_type": "code",
   "execution_count": 35,
   "metadata": {},
   "outputs": [
    {
     "data": {
      "text/html": [
       "<div>\n",
       "<style scoped>\n",
       "    .dataframe tbody tr th:only-of-type {\n",
       "        vertical-align: middle;\n",
       "    }\n",
       "\n",
       "    .dataframe tbody tr th {\n",
       "        vertical-align: top;\n",
       "    }\n",
       "\n",
       "    .dataframe thead th {\n",
       "        text-align: right;\n",
       "    }\n",
       "</style>\n",
       "<table border=\"1\" class=\"dataframe\">\n",
       "  <thead>\n",
       "    <tr style=\"text-align: right;\">\n",
       "      <th></th>\n",
       "      <th>Name</th>\n",
       "      <th>Date Join</th>\n",
       "      <th>Date Left</th>\n",
       "      <th>Email</th>\n",
       "    </tr>\n",
       "  </thead>\n",
       "  <tbody>\n",
       "    <tr>\n",
       "      <th>0</th>\n",
       "      <td>Dave</td>\n",
       "      <td>2008-09-20</td>\n",
       "      <td>2020-05-31</td>\n",
       "      <td>dave@google.com</td>\n",
       "    </tr>\n",
       "    <tr>\n",
       "      <th>1</th>\n",
       "      <td>Steve</td>\n",
       "      <td>2009-01-23</td>\n",
       "      <td>2020-04-30</td>\n",
       "      <td>steve@gmail.com</td>\n",
       "    </tr>\n",
       "    <tr>\n",
       "      <th>2</th>\n",
       "      <td>Rob</td>\n",
       "      <td>2007-02-14</td>\n",
       "      <td>2020-04-30</td>\n",
       "      <td>rob@gmail.com</td>\n",
       "    </tr>\n",
       "    <tr>\n",
       "      <th>3</th>\n",
       "      <td>Ryan</td>\n",
       "      <td>2010-02-11</td>\n",
       "      <td>2020-03-10</td>\n",
       "      <td>ryan@yahoo.com</td>\n",
       "    </tr>\n",
       "  </tbody>\n",
       "</table>\n",
       "</div>"
      ],
      "text/plain": [
       "    Name   Date Join   Date Left            Email\n",
       "0   Dave  2008-09-20  2020-05-31  dave@google.com\n",
       "1  Steve  2009-01-23  2020-04-30  steve@gmail.com\n",
       "2    Rob  2007-02-14  2020-04-30    rob@gmail.com\n",
       "3   Ryan  2010-02-11  2020-03-10   ryan@yahoo.com"
      ]
     },
     "metadata": {},
     "output_type": "display_data"
    }
   ],
   "source": [
    "dfList = []\n",
    "for x in range(0,len(splitted)):\n",
    "    uInfo = splitted[x].split(\" \")\n",
    "    uDict = {\n",
    "        'Name': uInfo[0],\n",
    "        'Date Join': uInfo[1],\n",
    "        'Date Left': uInfo[2],\n",
    "        'Email': uInfo[3],\n",
    "    }\n",
    "    dfList.append(uDict)\n",
    "\n",
    "df = pd.DataFrame(dfList)\n",
    "display(df)\n"
   ]
  },
  {
   "cell_type": "markdown",
   "metadata": {},
   "source": [
    "#### OPTION C:\n",
    "\n",
    "<b>STEP 1:</b> try to get each individual information from text using regular expression pattern, and split the output accordingly to the name, date join, date left, and email. \n",
    "<br>\n",
    "You should get something like following:\n",
    "<br>\n",
    "`[('Dave', '2008-09-20', '2020-05-31', 'dave@google.com'),\n",
    " ('Steve', '2009-01-23', '2020-04-30', 'steve@gmail.com'),\n",
    " ('Rob', '2007-02-14', '2020-04-30', 'rob@gmail.com'),\n",
    " ('Ryan', '2010-02-11', '2020-03-10', 'ryan@yahoo.com')]`"
   ]
  },
  {
   "cell_type": "code",
   "execution_count": 108,
   "metadata": {},
   "outputs": [
    {
     "data": {
      "text/plain": [
       "[('Dave', '2008-09-20', '2020-05-31', 'dave@google'),\n",
       " ('Steve', '2009-01-23', '2020-04-30', 'steve@gmail'),\n",
       " ('Rob', '2007-02-14', '2020-04-30', 'rob@gmail'),\n",
       " ('Ryan', '2010-02-11', '2020-03-10', 'ryan@yahoo')]"
      ]
     },
     "execution_count": 108,
     "metadata": {},
     "output_type": "execute_result"
    }
   ],
   "source": [
    "splitted = re.findall(\"([a-zA-Z0-9]*) ([0-9]{4}-[0-9]{2}-[0-9]{2}) ([0-9]{4}-[0-9]{2}-[0-9]{2}) ([a-zA-Z0-9]*[@][a-z]*)\",text)\n",
    "splitted"
   ]
  },
  {
   "cell_type": "markdown",
   "metadata": {},
   "source": [
    "#### OPTION C:\n",
    "<b>STEP 2:</b> Now, use the answer from STEP 1(iii), create a data frame with the column names: \"Name, Date Join, Date Left, Email\""
   ]
  },
  {
   "cell_type": "code",
   "execution_count": 114,
   "metadata": {},
   "outputs": [
    {
     "data": {
      "text/html": [
       "<div>\n",
       "<style scoped>\n",
       "    .dataframe tbody tr th:only-of-type {\n",
       "        vertical-align: middle;\n",
       "    }\n",
       "\n",
       "    .dataframe tbody tr th {\n",
       "        vertical-align: top;\n",
       "    }\n",
       "\n",
       "    .dataframe thead th {\n",
       "        text-align: right;\n",
       "    }\n",
       "</style>\n",
       "<table border=\"1\" class=\"dataframe\">\n",
       "  <thead>\n",
       "    <tr style=\"text-align: right;\">\n",
       "      <th></th>\n",
       "      <th>Name</th>\n",
       "      <th>Date Join</th>\n",
       "      <th>Date Left</th>\n",
       "      <th>Email</th>\n",
       "    </tr>\n",
       "  </thead>\n",
       "  <tbody>\n",
       "    <tr>\n",
       "      <th>0</th>\n",
       "      <td>Dave</td>\n",
       "      <td>2008-09-20</td>\n",
       "      <td>2020-05-31</td>\n",
       "      <td>dave@google</td>\n",
       "    </tr>\n",
       "    <tr>\n",
       "      <th>1</th>\n",
       "      <td>Steve</td>\n",
       "      <td>2009-01-23</td>\n",
       "      <td>2020-04-30</td>\n",
       "      <td>steve@gmail</td>\n",
       "    </tr>\n",
       "    <tr>\n",
       "      <th>2</th>\n",
       "      <td>Rob</td>\n",
       "      <td>2007-02-14</td>\n",
       "      <td>2020-04-30</td>\n",
       "      <td>rob@gmail</td>\n",
       "    </tr>\n",
       "    <tr>\n",
       "      <th>3</th>\n",
       "      <td>Ryan</td>\n",
       "      <td>2010-02-11</td>\n",
       "      <td>2020-03-10</td>\n",
       "      <td>ryan@yahoo</td>\n",
       "    </tr>\n",
       "  </tbody>\n",
       "</table>\n",
       "</div>"
      ],
      "text/plain": [
       "    Name   Date Join   Date Left        Email\n",
       "0   Dave  2008-09-20  2020-05-31  dave@google\n",
       "1  Steve  2009-01-23  2020-04-30  steve@gmail\n",
       "2    Rob  2007-02-14  2020-04-30    rob@gmail\n",
       "3   Ryan  2010-02-11  2020-03-10   ryan@yahoo"
      ]
     },
     "metadata": {},
     "output_type": "display_data"
    }
   ],
   "source": [
    "df = pd.DataFrame(splitted, columns =['Name', 'Date Join', 'Date Left','Email'])\n",
    "display(df)"
   ]
  }
 ],
 "metadata": {
  "kernelspec": {
   "display_name": "Python 3",
   "language": "python",
   "name": "python3"
  },
  "language_info": {
   "codemirror_mode": {
    "name": "ipython",
    "version": 3
   },
   "file_extension": ".py",
   "mimetype": "text/x-python",
   "name": "python",
   "nbconvert_exporter": "python",
   "pygments_lexer": "ipython3",
   "version": "3.8.3"
  }
 },
 "nbformat": 4,
 "nbformat_minor": 4
}
