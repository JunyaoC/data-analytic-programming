{
 "cells": [
  {
   "cell_type": "markdown",
   "metadata": {
    "id": "Pd84cVK61Wi0"
   },
   "source": [
    "# Logic and Repetition\n",
    "\n",
    "In this unit, we'll first understand what procedures are and why you might want to use them.  \n",
    "Then you'll start to write some procedures. Next, we'll learn about Python logic, or how to make comparisons.  \n",
    "\n",
    "Finally, we'll go on to repetition, and how to repeat operations in Python using while and for loops.  \n",
    "\n",
    "* [Procedural Abstraction](#Procedural-Abstraction)\n",
    "* [Computer Logic](#Python-Logic)\n",
    "* [Repetition](#Repetition)\n"
   ]
  },
  {
   "cell_type": "markdown",
   "metadata": {
    "id": "mKQal7rx1Wi2"
   },
   "source": [
    "# Procedural Abstraction\n",
    "\n",
    "What is a procedure? Why might you want to abstract it?"
   ]
  },
  {
   "cell_type": "markdown",
   "metadata": {
    "id": "4nKi4INJ1Wi3"
   },
   "source": [
    "We use procedures because we want to stop us from doing tedious work.  \n",
    "Anything we might want to do again and again we will want to 'abstract'."
   ]
  },
  {
   "cell_type": "markdown",
   "metadata": {
    "id": "RAwkuaRK1Wi3"
   },
   "source": [
    "## Functions\n",
    "\n",
    "A function is a block of organized, reusable code that is used to perform a single, related action.  For example, we can use the same procedure to multiply two numbers, whatever they are.  We then specify the numbers being multiplied as arguements of the function. Many functions return a value which you can then use; they can also print something out immediately\n",
    "\n",
    "#### Syntax:"
   ]
  },
  {
   "cell_type": "code",
   "execution_count": 1,
   "metadata": {
    "id": "baw22bNU1Wi4"
   },
   "outputs": [],
   "source": [
    "#def means define the function\n",
    "\n",
    "def functionname( parameters ): #colon represents function start\n",
    "    #the body of function must be indented\n",
    "    \"This is the doctring of functionname. It is good practice to put a description of what your function does here.\"\n",
    "    block_of_code\n",
    "    return [expression]"
   ]
  },
  {
   "cell_type": "code",
   "execution_count": 2,
   "metadata": {
    "id": "8ObuMVb81Wi9"
   },
   "outputs": [
    {
     "name": "stdout",
     "output_type": "stream",
     "text": [
      "This is the doctring of functionname. It is good practice to put a description of what your function does here.\n"
     ]
    }
   ],
   "source": [
    "print((functionname.__doc__))"
   ]
  },
  {
   "cell_type": "code",
   "execution_count": 3,
   "metadata": {
    "id": "1WqGcBsB1WjB"
   },
   "outputs": [
    {
     "name": "stdout",
     "output_type": "stream",
     "text": [
      "234\n",
      "This is python class\n"
     ]
    }
   ],
   "source": [
    "# void: does not return\n",
    "def myPrinter(text):\n",
    "    print(text)\n",
    "    \n",
    "myPrinter(234)  #You can use just number without the quotation mark\n",
    "myPrinter(\"This is python class\")  #Need to use the quotation mark for string"
   ]
  },
  {
   "cell_type": "code",
   "execution_count": 4,
   "metadata": {
    "id": "OsB36QRu1WjE"
   },
   "outputs": [
    {
     "name": "stdout",
     "output_type": "stream",
     "text": [
      "hellohellohello\n",
      "12\n",
      "13\n"
     ]
    }
   ],
   "source": [
    "# has return\n",
    "def multiplyer(i, j): #function hasn't been defined the type so can take strings as parameters\n",
    "    return i*j\n",
    "\n",
    "print((multiplyer('hello', 3)))\n",
    "print(multiplyer(4, 3))\n",
    "print((multiplyer(4, 3) + 1))"
   ]
  },
  {
   "cell_type": "code",
   "execution_count": 5,
   "metadata": {
    "id": "WF0Dt-fJ1WjH"
   },
   "outputs": [
    {
     "data": {
      "text/plain": [
       "2"
      ]
     },
     "execution_count": 5,
     "metadata": {},
     "output_type": "execute_result"
    }
   ],
   "source": [
    "multiplyer(1,2) # raise error # fixed if put 2 numbers as parameter"
   ]
  },
  {
   "cell_type": "code",
   "execution_count": 6,
   "metadata": {
    "id": "Uth5t8Vw1WjL"
   },
   "outputs": [],
   "source": [
    "def multiplyer(i, j):\n",
    "    return i*j"
   ]
  },
  {
   "cell_type": "code",
   "execution_count": 7,
   "metadata": {
    "id": "4qlnw_Vh1WjT"
   },
   "outputs": [
    {
     "name": "stdout",
     "output_type": "stream",
     "text": [
      "8\n"
     ]
    }
   ],
   "source": [
    "b = multiplyer(2,4)\n",
    "print (b)"
   ]
  },
  {
   "cell_type": "code",
   "execution_count": 8,
   "metadata": {
    "id": "B4Xkv93w1WjW"
   },
   "outputs": [
    {
     "name": "stdout",
     "output_type": "stream",
     "text": [
      "('Name: ', 'Hafiz')\n",
      "('Age ', 22)\n",
      "('Height ', 150)\n",
      "('Weight ', 65)\n",
      "\n",
      "('Name: ', 'Lina')\n",
      "('Age ', 35)\n",
      "('Height ', 150)\n",
      "('Weight ', 60)\n",
      "\n"
     ]
    }
   ],
   "source": [
    "def print_info( name, age = 35, height=150, weight=60 ): #name is mandatory (MUST specify), age, height and weight \n",
    "                                                         #will take default values if not specifed by the input\n",
    "    \"This prints a passed info into this function\"\n",
    "    print((\"Name: \", name))\n",
    "    print((\"Age \", age))\n",
    "    print((\"Height \", height))\n",
    "    print((\"Weight \", weight))\n",
    "    print()\n",
    "\n",
    "print_info('Hafiz', 22, weight=65)\n",
    "print_info('Lina')"
   ]
  },
  {
   "cell_type": "code",
   "execution_count": 9,
   "metadata": {
    "id": "CeXMfNIn1WjZ"
   },
   "outputs": [],
   "source": [
    "# Define a procedure that finds the index of the second instance of a string in a larger string.\n",
    "def find_second(findin, whattofind):\n",
    "   \n",
    "    first_index = findin.find(whattofind)\n",
    "    second_index = findin.find(whattofind, first_index+1)\n",
    "    \n",
    "    return second_index"
   ]
  },
  {
   "cell_type": "code",
   "execution_count": 10,
   "metadata": {
    "id": "sg6al7gK1Wjd"
   },
   "outputs": [
    {
     "data": {
      "text/plain": [
       "7"
      ]
     },
     "execution_count": 10,
     "metadata": {},
     "output_type": "execute_result"
    }
   ],
   "source": [
    "find_second('dance, dance, dance everyday', 'dance')"
   ]
  },
  {
   "cell_type": "code",
   "execution_count": 11,
   "metadata": {
    "id": "qv_Gxi9B1Wjh"
   },
   "outputs": [
    {
     "data": {
      "text/plain": [
       "53"
      ]
     },
     "execution_count": 11,
     "metadata": {},
     "output_type": "execute_result"
    }
   ],
   "source": [
    "find_second('learning about data, surprisingly, requires a lot of data','data')"
   ]
  },
  {
   "cell_type": "markdown",
   "metadata": {
    "id": "_s7svODM1Wjk"
   },
   "source": [
    "### Quick Exercise 1\n",
    "\n",
    "Define a function __starts_with_B__ that takes a string as input and returns True if the string starts with B, False otherwise"
   ]
  },
  {
   "cell_type": "code",
   "execution_count": 12,
   "metadata": {
    "id": "Xrzmtm381Wjk"
   },
   "outputs": [],
   "source": [
    "#write your code here\n",
    "def starts_with_B(_str):\n",
    "    if _str[0] == 'B':\n",
    "        return True\n",
    "    else:\n",
    "        return False"
   ]
  },
  {
   "cell_type": "code",
   "execution_count": 13,
   "metadata": {
    "id": "jN8rFEB51Wjo"
   },
   "outputs": [
    {
     "data": {
      "text/plain": [
       "False"
      ]
     },
     "execution_count": 13,
     "metadata": {},
     "output_type": "execute_result"
    }
   ],
   "source": [
    "starts_with_B('Joyce')"
   ]
  },
  {
   "cell_type": "code",
   "execution_count": 14,
   "metadata": {
    "id": "XqWYdUuX1Wjr"
   },
   "outputs": [
    {
     "data": {
      "text/plain": [
       "True"
      ]
     },
     "execution_count": 14,
     "metadata": {},
     "output_type": "execute_result"
    }
   ],
   "source": [
    "starts_with_B('Boyce')"
   ]
  },
  {
   "cell_type": "code",
   "execution_count": 15,
   "metadata": {
    "id": "f0a1ESz21Wjy"
   },
   "outputs": [
    {
     "data": {
      "text/plain": [
       "True"
      ]
     },
     "execution_count": 15,
     "metadata": {},
     "output_type": "execute_result"
    }
   ],
   "source": [
    "starts_with_B('Boyce Joyce')"
   ]
  },
  {
   "cell_type": "markdown",
   "metadata": {
    "id": "eTC838Bk1Wj0"
   },
   "source": [
    "# Python Logic\n",
    "Can a computer think? How does a computer think differently from how we do? We've seen how computers can represent abstract concepts.  One of those abstract concepts is logic.  We've developed programs that can use logic. \n",
    "\n",
    "A **boolean** expression is an expression that is either _true_ or _false_. The following examples use the operator ==, which compares two operands and produces True if they are equal and False otherwise.\n",
    "\n",
    "There are three logical operators: _and_, _or_, and _not_. The semantics (meaning) of these operators is similar to their meaning in English.\n",
    "\n",
    "\n",
    "#### String logic\n",
    "is\t-- object identity\t \n",
    "\n",
    "is not\t-- negated object identity\t\n",
    "\n",
    "x in s -- True if an item of s is equal to x, else False\n",
    "\n",
    "x not in s -- False if an item of s is equal to x, else True\n",
    "\n",
    "x or y -- if x is false, then y, else x\n",
    "\n",
    "x and y -- if x is false, then x, else y\n",
    "\n",
    "not x -- if x is false, then True, else False \n",
    "\n",
    "#### Arithmetic logic\n",
    "\\> -- Strictly larger than\n",
    "\n",
    "== -- Is the identity of\n",
    "\n",
    "\\>= -- Greater than or equal to \n",
    "\n",
    "\\!= -- Is not the identity of.\n"
   ]
  },
  {
   "cell_type": "code",
   "execution_count": 16,
   "metadata": {
    "id": "SlM-GLQU1Wj1"
   },
   "outputs": [
    {
     "data": {
      "text/plain": [
       "True"
      ]
     },
     "execution_count": 16,
     "metadata": {},
     "output_type": "execute_result"
    }
   ],
   "source": [
    "#example of string\n",
    "\n",
    "s = \"my string\"\n",
    "s2 = \"my string\"\n",
    "\n",
    "'my' in s"
   ]
  },
  {
   "cell_type": "code",
   "execution_count": 17,
   "metadata": {
    "id": "y7Ip2B2E1Wj4"
   },
   "outputs": [
    {
     "data": {
      "text/plain": [
       "False"
      ]
     },
     "execution_count": 17,
     "metadata": {},
     "output_type": "execute_result"
    }
   ],
   "source": [
    "#example of string\n",
    "\n",
    "s=\"my string\"\n",
    "s2 = \"my string\"\n",
    "\n",
    "'mys' in s"
   ]
  },
  {
   "cell_type": "code",
   "execution_count": 18,
   "metadata": {
    "id": "oEyUtd231Wj8"
   },
   "outputs": [
    {
     "data": {
      "text/plain": [
       "False"
      ]
     },
     "execution_count": 18,
     "metadata": {},
     "output_type": "execute_result"
    }
   ],
   "source": [
    "#example of string\n",
    "\n",
    "s=\"my string\"\n",
    "s2 = \"my string\"\n",
    "\n",
    "'my' not in s   #doing the negation\n",
    "#same as\n",
    "not 'my' in s"
   ]
  },
  {
   "cell_type": "code",
   "execution_count": 19,
   "metadata": {
    "id": "zRIW38OH1WkC"
   },
   "outputs": [
    {
     "data": {
      "text/plain": [
       "True"
      ]
     },
     "execution_count": 19,
     "metadata": {},
     "output_type": "execute_result"
    }
   ],
   "source": [
    "#example of string\n",
    "\n",
    "a = True  #Capital (T) and (F) \n",
    "b = False\n",
    "\n",
    "a or b\n",
    "#same as\n",
    "not (a and b)"
   ]
  },
  {
   "cell_type": "code",
   "execution_count": 20,
   "metadata": {
    "id": "ZTNaJfY-1WkF"
   },
   "outputs": [
    {
     "name": "stdout",
     "output_type": "stream",
     "text": [
      "True\n",
      "False\n",
      "True\n",
      "False\n",
      "True\n",
      "False\n",
      "True\n",
      "False\n"
     ]
    }
   ],
   "source": [
    "print((5 > 2))\n",
    "print((2 > 5))\n",
    "# print((2 is 2)) #throws error\n",
    "print((2 == 2)) #throws error\n",
    "print((2 == 3)) \n",
    "print((5 > 2 or 2 > 1))\n",
    "print((5 > 2 and 2 > 2))\n",
    "print(('s' in 'datascience'))\n",
    "print(('x' in 'datascience'))"
   ]
  },
  {
   "cell_type": "code",
   "execution_count": 21,
   "metadata": {
    "id": "ZrYfPw3S1WkI"
   },
   "outputs": [],
   "source": [
    "# Why is == equals, not = ?"
   ]
  },
  {
   "cell_type": "markdown",
   "metadata": {
    "id": "3JcgzuE41WkM"
   },
   "source": [
    "### Conditional Execution\n",
    "\n",
    "Python does not use { } to enclose blocks of code for if/loops/function etc. like C. Instead, Python uses the colon (:) and indentation/whitespace to group statements. "
   ]
  },
  {
   "cell_type": "markdown",
   "metadata": {
    "id": "C35zueji1WkM"
   },
   "source": [
    "In order to write useful programs, we almost always need the ability to check conditions and change the behavior of the program accordingly. Conditional statements give us this ability. The simplest form is the if statement:\n",
    "\n",
    "```python\n",
    "if x > 0 :\n",
    "    print 'x is positive'\n",
    "```\n",
    "    \n",
    "The boolean expression after the if statement is called the condition. We end the if statement with a colon character (:) and the line(s) after the if statement are indented.\n",
    "\n",
    "![](http://www.pythonlearn.com/html-007/cfbook005.png)\n",
    "\n",
    "If the logical condition is true, then the indented statement gets executed. If the logical condition is false, the indented statement is skipped.\n",
    "\n",
    "### Alternative execution\n",
    "\n",
    "A second form of the if statement is alternative execution, in which there are two possibilities and the condition determines which one gets executed. The syntax looks like this:\n",
    "\n",
    "```python\n",
    "if x%2 == 0 :\n",
    "    print 'x is even'\n",
    "else :\n",
    "    print 'x is odd'\n",
    "```\n",
    "\n",
    "If the remainder when x is divided by 2 is 0, then we know that x is even, and the program displays a message to that effect. If the condition is false, the second set of statements is executed. \n",
    "\n",
    "![](http://www.pythonlearn.com/html-007/cfbook006.png)\n",
    "\n",
    "Since the condition must be true or false, exactly one of the alternatives will be executed. The alternatives are called branches, because they are branches in the flow of execution.\n",
    "\n",
    "### Chained conditionals\n",
    "\n",
    "Sometimes there are more than two possibilities and we need more than two branches. One way to express a computation like that is a chained conditional:\n",
    "\n",
    "```python\n",
    "if x < y:\n",
    "    print 'x is less than y'\n",
    "elif x > y:\n",
    "    print 'x is greater than y'\n",
    "else:\n",
    "    print 'x and y are equal'\n",
    "```\n",
    "\n",
    "elif is an abbreviation of \"else if\". Again, exactly one branch will be executed.\n",
    "\n",
    "![](http://www.pythonlearn.com/html-007/cfbook007.png)\n",
    "\n",
    "There is no limit on the number of elif statements. If there is an else clause, it has to be at the end, but there doesn't have to be one.\n"
   ]
  },
  {
   "cell_type": "code",
   "execution_count": 22,
   "metadata": {
    "id": "N4TNzNs61WkN"
   },
   "outputs": [
    {
     "name": "stdout",
     "output_type": "stream",
     "text": [
      "block of code 2\n"
     ]
    }
   ],
   "source": [
    "if False:\n",
    "    print(\"block of code 1\")\n",
    "elif True:\n",
    "    print(\"block of code 2\")\n",
    "else:\n",
    "    print(\"block of code 3\")"
   ]
  },
  {
   "cell_type": "code",
   "execution_count": 23,
   "metadata": {
    "id": "DiAk7Yhc1WkU"
   },
   "outputs": [
    {
     "name": "stdout",
     "output_type": "stream",
     "text": [
      "License and registration please\n",
      "You have the right to remain silent.\n"
     ]
    }
   ],
   "source": [
    "speed = 105\n",
    "mood = 'bad'\n",
    "\n",
    "if speed >= 80:\n",
    "    print('License and registration please')\n",
    "    if mood == 'terrible' or speed >= 100:\n",
    "        print('You have the right to remain silent.')\n",
    "    elif mood == 'bad' or speed >= 90:\n",
    "        print(\"I'm going to have to write you a ticket.\")\n",
    "    else:\n",
    "        print(\"Let's try to keep it under 80 ok?\")"
   ]
  },
  {
   "cell_type": "code",
   "execution_count": 24,
   "metadata": {
    "id": "ln0YSU4a1WkY"
   },
   "outputs": [
    {
     "name": "stdout",
     "output_type": "stream",
     "text": [
      "3\n",
      "Success!\n"
     ]
    }
   ],
   "source": [
    "string = 'Hi there' # True example\n",
    "# string = 'Good bye' # False example\n",
    "\n",
    "result = string.find('th')\n",
    "print(result)\n",
    "\n",
    "if result != -1:\n",
    "    print('Success!')\n",
    "else:\n",
    "    print('Not found!')"
   ]
  },
  {
   "cell_type": "markdown",
   "metadata": {
    "id": "2F1K6BcO1Wke"
   },
   "source": [
    "### Quick Exercise 2\n",
    "Define a function __bigger(a,b)__ that takes two numbers a and b as input and returns True if and only if a is bigger than b."
   ]
  },
  {
   "cell_type": "code",
   "execution_count": 25,
   "metadata": {
    "id": "-OXwYp5y1Wkg"
   },
   "outputs": [],
   "source": [
    "# write your code here\n",
    "\n",
    "def bigger(a,b):\n",
    "    if(a > b):\n",
    "        return True\n",
    "    else:\n",
    "        return False\n",
    "\n"
   ]
  },
  {
   "cell_type": "code",
   "execution_count": 26,
   "metadata": {
    "id": "N7VNCQfg1Wkk"
   },
   "outputs": [
    {
     "data": {
      "text/plain": [
       "True"
      ]
     },
     "execution_count": 26,
     "metadata": {},
     "output_type": "execute_result"
    }
   ],
   "source": [
    "bigger(4,3)"
   ]
  },
  {
   "cell_type": "code",
   "execution_count": 27,
   "metadata": {
    "id": "pCVbRQ0b1Wkn"
   },
   "outputs": [
    {
     "data": {
      "text/plain": [
       "False"
      ]
     },
     "execution_count": 27,
     "metadata": {},
     "output_type": "execute_result"
    }
   ],
   "source": [
    "bigger(1,2)"
   ]
  },
  {
   "cell_type": "code",
   "execution_count": 28,
   "metadata": {
    "id": "XOEy9tsz1Wkp"
   },
   "outputs": [
    {
     "data": {
      "text/plain": [
       "True"
      ]
     },
     "execution_count": 28,
     "metadata": {},
     "output_type": "execute_result"
    }
   ],
   "source": [
    "bigger(1,2) == False"
   ]
  },
  {
   "cell_type": "markdown",
   "metadata": {
    "id": "ne02dkdU1Wks"
   },
   "source": [
    "### Quick Exercise 3\n",
    "\n",
    "Define a function __biggest (a,b,c)__ that takes three numbers a,b and c as input and returns the biggest number"
   ]
  },
  {
   "cell_type": "code",
   "execution_count": 29,
   "metadata": {
    "id": "rdcHTRcX1Wkt"
   },
   "outputs": [],
   "source": [
    "# Nested if problem: Define a function biggest(a,b,c) which takes the largest of the three inputs and returns\n",
    "# the largest one. \n",
    "\n",
    "# write your code here\n",
    "\n",
    "##using chained if approach\n",
    "\n",
    "def biggest(a,b,c):\n",
    "    if(a > b):\n",
    "        if(a > c):\n",
    "            return a\n",
    "    elif (b > c):\n",
    "            return b\n",
    "    else:\n",
    "        return c\n",
    "    \n",
    "def biggest_sort(a,b,c):\n",
    "    list = [a,b,c]\n",
    "    list.sort(reverse=True)\n",
    "    return list[0]\n",
    "    \n",
    "\n"
   ]
  },
  {
   "cell_type": "code",
   "execution_count": 30,
   "metadata": {
    "id": "w1bvhCBB1Wkz"
   },
   "outputs": [
    {
     "name": "stdout",
     "output_type": "stream",
     "text": [
      "Nested If Approach 3\n",
      "Sort Approach 3\n"
     ]
    }
   ],
   "source": [
    "print('Nested If Approach',biggest(1,2,3))\n",
    "print('Sort Approach',biggest_sort(1,2,3))"
   ]
  },
  {
   "cell_type": "code",
   "execution_count": 31,
   "metadata": {
    "id": "ea4YCpwt1Wk4"
   },
   "outputs": [
    {
     "name": "stdout",
     "output_type": "stream",
     "text": [
      "Nested If Approach 4\n",
      "Sort Approach 4\n"
     ]
    }
   ],
   "source": [
    "print('Nested If Approach',biggest(4,3,1))\n",
    "print('Sort Approach',biggest_sort(4,3,1))"
   ]
  },
  {
   "cell_type": "code",
   "execution_count": 32,
   "metadata": {
    "id": "DhnARrtx1Wk7"
   },
   "outputs": [
    {
     "name": "stdout",
     "output_type": "stream",
     "text": [
      "Nested If Approach 8\n",
      "Sort Approach 8\n"
     ]
    }
   ],
   "source": [
    "print('Nested If Approach',biggest(4,8,1))\n",
    "print('Sort Approach',biggest_sort(4,8,1))"
   ]
  },
  {
   "cell_type": "markdown",
   "metadata": {
    "id": "VfMOxuCX1Wk-"
   },
   "source": [
    "## Repetition\n",
    "\n",
    "### While\n",
    "\n",
    "The while loop continues iterating until it's condition stops being true:"
   ]
  },
  {
   "cell_type": "code",
   "execution_count": 33,
   "metadata": {
    "id": "U9N5FiJZ1Wk_"
   },
   "outputs": [
    {
     "name": "stdout",
     "output_type": "stream",
     "text": [
      "1\n",
      "2\n",
      "3\n",
      "4\n",
      "5\n"
     ]
    }
   ],
   "source": [
    "i = 0\n",
    "\n",
    "while i < 5:\n",
    "    i = i + 1\n",
    "    print(i) "
   ]
  },
  {
   "cell_type": "code",
   "execution_count": 34,
   "metadata": {
    "id": "Gt-G0xUy1WlD"
   },
   "outputs": [
    {
     "name": "stdout",
     "output_type": "stream",
     "text": [
      "0\n",
      "1\n",
      "2\n",
      "3\n",
      "4\n"
     ]
    }
   ],
   "source": [
    "i = 0\n",
    "\n",
    "while i < 5:\n",
    "    print(i) \n",
    "    i = i + 1"
   ]
  },
  {
   "cell_type": "code",
   "execution_count": 35,
   "metadata": {
    "id": "9A5QMUHK1WlH"
   },
   "outputs": [],
   "source": [
    "# What happens here? \n",
    "# Don't run it!\n",
    "# i = 0\n",
    "# while i != 11:\n",
    "#     i = i+2\n",
    "#     print i\n",
    "\n",
    "#the loop will never end because it will True always!!\n",
    "# in case want to end the loop, go to Kernel > Interrupt"
   ]
  },
  {
   "cell_type": "code",
   "execution_count": 36,
   "metadata": {
    "id": "vrB2uGjV1WlK"
   },
   "outputs": [
    {
     "name": "stdout",
     "output_type": "stream",
     "text": [
      "Dance\n",
      "Dance\n",
      "Dance\n"
     ]
    }
   ],
   "source": [
    "# A function that prints 'Dance' 3 times using the while loop\n",
    "# Some stylistic practices\n",
    "# print a string a number of times equal to the length of the string\n",
    "\n",
    "i=0\n",
    "while i < 3:\n",
    "    print(\"Dance\")\n",
    "    i = i+1"
   ]
  },
  {
   "cell_type": "code",
   "execution_count": 37,
   "metadata": {
    "id": "uSNFH11Z1WlM"
   },
   "outputs": [
    {
     "name": "stdout",
     "output_type": "stream",
     "text": [
      "Dance\n"
     ]
    }
   ],
   "source": [
    "while True:\n",
    "    print('Dance')\n",
    "    break"
   ]
  },
  {
   "cell_type": "code",
   "execution_count": 38,
   "metadata": {
    "id": "I1gYUREu1WlP"
   },
   "outputs": [],
   "source": [
    "#Write a function my_sum that uses a while loop to sum all numbers from 0 to n\n",
    "\n",
    "def my_sum(n):\n",
    "    i = mysum = 0\n",
    "    \n",
    "    while i != n+1:\n",
    "        mysum = mysum + i\n",
    "        i+=1\n",
    "    \n",
    "    return(mysum)"
   ]
  },
  {
   "cell_type": "code",
   "execution_count": 39,
   "metadata": {
    "id": "IFqnoYkd1WlU"
   },
   "outputs": [
    {
     "data": {
      "text/plain": [
       "3"
      ]
     },
     "execution_count": 39,
     "metadata": {},
     "output_type": "execute_result"
    }
   ],
   "source": [
    "my_sum(2)"
   ]
  },
  {
   "cell_type": "code",
   "execution_count": 40,
   "metadata": {
    "id": "ho3bv83u1WlZ"
   },
   "outputs": [
    {
     "data": {
      "text/plain": [
       "15"
      ]
     },
     "execution_count": 40,
     "metadata": {},
     "output_type": "execute_result"
    }
   ],
   "source": [
    "my_sum(5)"
   ]
  },
  {
   "cell_type": "code",
   "execution_count": 41,
   "metadata": {
    "id": "PtNHmWdE1Wlc"
   },
   "outputs": [
    {
     "name": "stdout",
     "output_type": "stream",
     "text": [
      "1\n",
      "3\n",
      "5\n",
      "7\n",
      "9\n"
     ]
    }
   ],
   "source": [
    "i = 0\n",
    "\n",
    "while True:\n",
    "    i = i+1\n",
    "    if i%2 == 0:\n",
    "        continue\n",
    "    if i>= 10:\n",
    "        break\n",
    "    print(i)"
   ]
  },
  {
   "cell_type": "code",
   "execution_count": 42,
   "metadata": {
    "id": "6W4giNVz1Wlg"
   },
   "outputs": [],
   "source": [
    "# Define a function called factorial(n)\n",
    "\n",
    "def factorial(n):\n",
    "    i = 1\n",
    "    result = 1\n",
    "\n",
    "    while i < n+1:\n",
    "        result = result * i\n",
    "        i += 1\n",
    "\n",
    "    return(result)"
   ]
  },
  {
   "cell_type": "code",
   "execution_count": 43,
   "metadata": {
    "id": "l-xD8fWv1Wlm"
   },
   "outputs": [
    {
     "data": {
      "text/plain": [
       "6"
      ]
     },
     "execution_count": 43,
     "metadata": {},
     "output_type": "execute_result"
    }
   ],
   "source": [
    "factorial(3)"
   ]
  },
  {
   "cell_type": "code",
   "execution_count": 44,
   "metadata": {
    "id": "8Z98VOM21Wlq"
   },
   "outputs": [
    {
     "data": {
      "text/plain": [
       "120"
      ]
     },
     "execution_count": 44,
     "metadata": {},
     "output_type": "execute_result"
    }
   ],
   "source": [
    "factorial(5)"
   ]
  },
  {
   "cell_type": "code",
   "execution_count": 45,
   "metadata": {
    "id": "GEBLaaAs1Wlt"
   },
   "outputs": [
    {
     "data": {
      "text/plain": [
       "True"
      ]
     },
     "execution_count": 45,
     "metadata": {},
     "output_type": "execute_result"
    }
   ],
   "source": [
    "import math\n",
    "\n",
    "math.factorial(1) == factorial(1)"
   ]
  },
  {
   "cell_type": "code",
   "execution_count": 46,
   "metadata": {
    "id": "aANCQHFe1Wl2"
   },
   "outputs": [
    {
     "data": {
      "text/plain": [
       "120"
      ]
     },
     "execution_count": 46,
     "metadata": {},
     "output_type": "execute_result"
    }
   ],
   "source": [
    "import math\n",
    "\n",
    "math.factorial(5) "
   ]
  },
  {
   "cell_type": "markdown",
   "metadata": {
    "id": "I81ANYDY1Wl5"
   },
   "source": [
    "### Quick Exercise 4\n",
    "\n",
    "Write a program that computes\n",
    "\n",
    "$$4\\sum_{k=1}^{10^6}\\frac{(-1)^{k+1}}{2k-1}$$\n",
    "\n",
    "Above segment means $$4\\times(1-1/3+1/5-1/7+1/9-1/11...)$$"
   ]
  },
  {
   "cell_type": "code",
   "execution_count": 47,
   "metadata": {
    "id": "f_Pg7QeQ1Wl6"
   },
   "outputs": [
    {
     "name": "stdout",
     "output_type": "stream",
     "text": [
      "Answer is  3.1415936535907742\n"
     ]
    }
   ],
   "source": [
    "# write your code here\n",
    "value = 0\n",
    "i = 1\n",
    "while i in range(pow(10,6)):\n",
    "    value = ( pow((-1),(i+1)) / (2*i - 1) ) + value\n",
    "    i = i + 1\n",
    "\n",
    "value = value * 4\n",
    "print(\"Answer is \", value)"
   ]
  },
  {
   "cell_type": "markdown",
   "metadata": {
    "id": "c-6JVEc71Wl_"
   },
   "source": [
    "### For\n",
    "\n",
    "For iterating over a collection or an iterater"
   ]
  },
  {
   "cell_type": "code",
   "execution_count": 48,
   "metadata": {
    "id": "QDVUc_pe1WmA"
   },
   "outputs": [
    {
     "data": {
      "text/plain": [
       "154"
      ]
     },
     "execution_count": 48,
     "metadata": {},
     "output_type": "execute_result"
    }
   ],
   "source": [
    "# write a for loop to sum all numbers for [3, 41, 12, 9, 74, 15]\n",
    "\n",
    "def listsum(numList):\n",
    "    theSum = 0\n",
    "    for i in numList:\n",
    "        theSum = theSum + i\n",
    "    return theSum\n",
    "\n",
    "listsum([3,41,12,9,74,15])\n"
   ]
  },
  {
   "cell_type": "code",
   "execution_count": 49,
   "metadata": {
    "id": "OfX5Uym_1WmI"
   },
   "outputs": [
    {
     "data": {
      "text/plain": [
       "12"
      ]
     },
     "execution_count": 49,
     "metadata": {},
     "output_type": "execute_result"
    }
   ],
   "source": [
    "sequence = [1,2, None,4,None,5]\n",
    "total = 0\n",
    "\n",
    "for value in sequence:\n",
    "    if value is None:\n",
    "        continue    #skipping the remainder of the block\n",
    "    total += value\n",
    "\n",
    "total"
   ]
  },
  {
   "cell_type": "code",
   "execution_count": 50,
   "metadata": {
    "id": "kQOIFftP1WmL"
   },
   "outputs": [
    {
     "data": {
      "text/plain": [
       "5"
      ]
     },
     "execution_count": 50,
     "metadata": {},
     "output_type": "execute_result"
    }
   ],
   "source": [
    "#Use the for loop to count number of items in basket\n",
    "\n",
    "basket = ['banana','apple','durian','orange','rambutan']\n",
    "\n",
    "number = 0\n",
    "\n",
    "for item in basket:\n",
    "    number += 1\n",
    "\n",
    "number"
   ]
  },
  {
   "cell_type": "markdown",
   "metadata": {
    "id": "Y6WROAhN1WmR"
   },
   "source": [
    "### Quick Exercise 5\n",
    "\n",
    "Write a program to sum all the values from the 'seq' until value 5 is found (value 5 is excluded from the sum)"
   ]
  },
  {
   "cell_type": "code",
   "execution_count": 52,
   "metadata": {
    "id": "vSJtABpM1WmS"
   },
   "outputs": [
    {
     "data": {
      "text/plain": [
       "13"
      ]
     },
     "execution_count": 52,
     "metadata": {},
     "output_type": "execute_result"
    }
   ],
   "source": [
    "seq = [1,2,0,4,6,5,2,1]\n",
    "\n",
    "# write your code here\n",
    "sumValue = 0\n",
    "for value in seq:\n",
    "    if value == 5:\n",
    "        break\n",
    "    else:\n",
    "        sumValue = sumValue + value\n",
    "        continue\n",
    "    \n",
    "sumValue\n"
   ]
  }
 ],
 "metadata": {
  "anaconda-cloud": {},
  "colab": {
   "name": "Chapter 1 - Python 02.ipynb",
   "provenance": []
  },
  "kernelspec": {
   "display_name": "Python 3",
   "language": "python",
   "name": "python3"
  },
  "language_info": {
   "codemirror_mode": {
    "name": "ipython",
    "version": 3
   },
   "file_extension": ".py",
   "mimetype": "text/x-python",
   "name": "python",
   "nbconvert_exporter": "python",
   "pygments_lexer": "ipython3",
   "version": "3.8.3"
  }
 },
 "nbformat": 4,
 "nbformat_minor": 4
}
