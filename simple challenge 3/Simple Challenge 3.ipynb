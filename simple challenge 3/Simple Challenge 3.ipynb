{
 "cells": [
  {
   "cell_type": "code",
   "execution_count": 7,
   "metadata": {},
   "outputs": [
    {
     "name": "stdout",
     "output_type": "stream",
     "text": [
      "70\n",
      "\n",
      "10\n",
      "\n",
      "['Sunday' 'Monday' 'Tuesday' 'Wednesday' 'Thursday' 'Friday' 'Saturday']\n"
     ]
    }
   ],
   "source": [
    "import numpy as np\n",
    "import pandas as pd\n",
    "\n",
    "attendance = np.array([1,0,0,1,1,1,0,1,0,1,1,1,1,1,1,1,1,1,1,1,0,1,0,0,1,1,1,1,1,1,1,0,1,1,1,1,0,0,0,1,1,1,1,1,1,1,1,1,1,1,1,0,0,0,0,0,1,1,1,1,1,1,1,0,0,0,1,1,1,1])\n",
    "name_list = np.array([\"Ali\",\"Ahmad\",\"Beng\",\"Chris\",\"Sita\",\"Marion\",\"Stephen\",\"Cobby\",\"Akmal\",\"Nita\"])\n",
    "day_list = np.array([\"Sunday\",\"Monday\",\"Tuesday\",\"Wednesday\",\"Thursday\",\"Friday\",\"Saturday\"])\n",
    "\n",
    "print(len(attendance))\n",
    "print()\n",
    "print(len(name_list))\n",
    "print()\n",
    "print(day_list)"
   ]
  },
  {
   "cell_type": "markdown",
   "metadata": {},
   "source": [
    "## Description of the data:\n",
    "Given a list of attendance data of an event for 10 students for 1 week where **1 indicates the student attends** for the event, while **0 indicates the student is absent**. The data is given in a simple list described as follows:\n",
    "\n",
    "<br>\n",
    "<img src=\"F1.png\">\n",
    "\n",
    "The namelist and the daylist also given. The order of the day and name in the attendance data are complement to both variables. "
   ]
  },
  {
   "cell_type": "code",
   "execution_count": 53,
   "metadata": {},
   "outputs": [
    {
     "name": "stdout",
     "output_type": "stream",
     "text": [
      "[[1 1 0 1 1 1 1]\n",
      " [0 1 1 0 1 0 1]\n",
      " [0 1 0 1 1 0 1]\n",
      " [1 1 0 1 1 0 0]\n",
      " [1 1 1 1 1 0 0]\n",
      " [1 1 1 1 1 0 0]\n",
      " [0 1 1 0 1 1 1]\n",
      " [1 1 1 0 1 1 1]\n",
      " [0 1 1 0 1 1 1]\n",
      " [1 1 1 1 1 1 1]]\n"
     ]
    }
   ],
   "source": [
    "# Now, based on the given attendance data, create a 2D numpy array (named: attendance_arr) where:\n",
    "# ROW represents each student\n",
    "# COLUMN represents each day\n",
    "# Write the code at below:\n",
    "\n",
    "def structure_data(attendance,name_list,day_list):\n",
    "    \n",
    "    number_of_days = len(day_list)\n",
    "    attendance_arr = np.reshape(attendance, (number_of_days, len(name_list)))\n",
    "    attendance_arr = attendance_arr.transpose()\n",
    "    return attendance_arr\n",
    "    \n",
    "\n",
    "attendance_arr = structure_data(attendance,name_list,day_list)\n",
    "print(attendance_arr)\n"
   ]
  },
  {
   "cell_type": "code",
   "execution_count": 77,
   "metadata": {},
   "outputs": [
    {
     "data": {
      "text/plain": [
       "[{'name': 'Ali', 'attendance': 6},\n",
       " {'name': 'Ahmad', 'attendance': 4},\n",
       " {'name': 'Beng', 'attendance': 4},\n",
       " {'name': 'Chris', 'attendance': 4},\n",
       " {'name': 'Sita', 'attendance': 5},\n",
       " {'name': 'Marion', 'attendance': 5},\n",
       " {'name': 'Stephen', 'attendance': 5},\n",
       " {'name': 'Cobby', 'attendance': 6},\n",
       " {'name': 'Akmal', 'attendance': 5},\n",
       " {'name': 'Nita', 'attendance': 7}]"
      ]
     },
     "execution_count": 77,
     "metadata": {},
     "output_type": "execute_result"
    }
   ],
   "source": [
    "# Write a fuction that returns the list of names, and their corresponding total attendance based on a filter\n",
    "# The function should accept at least ONE argument, which is the no. of days. You should return the results\n",
    "# filtered based on the no. of days. \n",
    "# E.g.: get the names and their total attendance for those who attended more than 4 days\n",
    "\n",
    "def filter_attendance(day):\n",
    "    attendance_total = np.sum(attendance_arr, axis=1)\n",
    "    filtered_result = []\n",
    "    \n",
    "    for i,value in enumerate(attendance_total):\n",
    "        if value >= day:\n",
    "            filtered_result.append({'name':name_list[i],'attendance':attendance_total[i]})\n",
    "    \n",
    "    return filtered_result\n",
    "    \n",
    "    \n",
    "filter_attendance(0)\n",
    "\n"
   ]
  },
  {
   "cell_type": "code",
   "execution_count": 78,
   "metadata": {},
   "outputs": [
    {
     "data": {
      "text/plain": [
       "{'name': 'Beng', 'attendance': [0, 1, 0, 1, 1, 0, 1]}"
      ]
     },
     "execution_count": 78,
     "metadata": {},
     "output_type": "execute_result"
    }
   ],
   "source": [
    "# Write a function that returns the 7-day attendance for a specific person.\n",
    "# The function should accept at least ONE argument, which is the name of the person. You should return the results\n",
    "# based on the name.\n",
    "# E.g.: get the 7-day attendance for \"Akmal\"\n",
    "\n",
    "def get_attendance(name):\n",
    "    \n",
    "    for i,value in enumerate(name_list):\n",
    "        if value == name:\n",
    "            return {'name': name,'attendance': list(attendance_arr[i])}\n",
    "    \n",
    "    return filtered_result\n",
    "\n",
    "get_attendance('Beng')\n"
   ]
  },
  {
   "cell_type": "code",
   "execution_count": 79,
   "metadata": {},
   "outputs": [
    {
     "data": {
      "text/plain": [
       "[{'day': 'Sunday', 'attendance': 6},\n",
       " {'day': 'Monday', 'attendance': 10},\n",
       " {'day': 'Tuesday', 'attendance': 7},\n",
       " {'day': 'Wednesday', 'attendance': 6},\n",
       " {'day': 'Thursday', 'attendance': 10},\n",
       " {'day': 'Friday', 'attendance': 5},\n",
       " {'day': 'Saturday', 'attendance': 7}]"
      ]
     },
     "execution_count": 79,
     "metadata": {},
     "output_type": "execute_result"
    }
   ],
   "source": [
    "# Write a fuction that returns the list of days, and the corresponding total attendance based on a filter\n",
    "# The function should accept at least ONE argument, which is the no. of attendees. You should return the results\n",
    "# filtered based on the no. of attendees. \n",
    "# E.g.: get the list of days and the total attendance for where if the attendees exceed 5 people. \n",
    "\n",
    "def filter_day(no_of_attendees):\n",
    "    attendance_total = np.sum(attendance_arr, axis=0)\n",
    "    filtered_result = []\n",
    "    \n",
    "    for i,value in enumerate(attendance_total):\n",
    "        if value >= no_of_attendees:\n",
    "            filtered_result.append({'day':day_list[i],'attendance':attendance_total[i]})\n",
    "    \n",
    "    return filtered_result\n",
    "    \n",
    "    \n",
    "filter_day(0)"
   ]
  },
  {
   "cell_type": "code",
   "execution_count": 80,
   "metadata": {},
   "outputs": [
    {
     "data": {
      "text/plain": [
       "[{'day': 'Sunday', 'percentage': '60.0%'},\n",
       " {'day': 'Monday', 'percentage': '100.0%'},\n",
       " {'day': 'Tuesday', 'percentage': '70.0%'},\n",
       " {'day': 'Wednesday', 'percentage': '60.0%'},\n",
       " {'day': 'Thursday', 'percentage': '100.0%'},\n",
       " {'day': 'Friday', 'percentage': '50.0%'},\n",
       " {'day': 'Saturday', 'percentage': '70.0%'}]"
      ]
     },
     "execution_count": 80,
     "metadata": {},
     "output_type": "execute_result"
    }
   ],
   "source": [
    "# Write a function that returns the percentage of attendance for each day.\n",
    "\n",
    "def attendance_percentage():\n",
    "    day_attd = filter_day(0)\n",
    "    percentage_day = [ {'day':day['day'],'percentage': str((day['attendance'] / len(name_list) ) * 100) + '%'  } for day in day_attd ]\n",
    "    \n",
    "    return percentage_day\n",
    "\n",
    "attendance_percentage()"
   ]
  },
  {
   "cell_type": "code",
   "execution_count": 86,
   "metadata": {},
   "outputs": [
    {
     "data": {
      "text/plain": [
       "[{'name': 'Ali', 'attendance': '85.71%'},\n",
       " {'name': 'Ahmad', 'attendance': '57.14%'},\n",
       " {'name': 'Beng', 'attendance': '57.14%'},\n",
       " {'name': 'Chris', 'attendance': '57.14%'},\n",
       " {'name': 'Sita', 'attendance': '71.43%'},\n",
       " {'name': 'Marion', 'attendance': '71.43%'},\n",
       " {'name': 'Stephen', 'attendance': '71.43%'},\n",
       " {'name': 'Cobby', 'attendance': '85.71%'},\n",
       " {'name': 'Akmal', 'attendance': '71.43%'},\n",
       " {'name': 'Nita', 'attendance': '100.00%'}]"
      ]
     },
     "execution_count": 86,
     "metadata": {},
     "output_type": "execute_result"
    }
   ],
   "source": [
    "# Write a function that returns the percentage of attendance for each student.\n",
    "def student_percentage():    \n",
    "    result = [ {'name':student,'attendance': str(\"{:.2f}\".format(( sum(get_attendance(student)['attendance']) ) / len(day_list)*100)) + '%' } for student in name_list]\n",
    "    return result\n",
    "\n",
    "student_percentage()\n"
   ]
  },
  {
   "cell_type": "code",
   "execution_count": 117,
   "metadata": {},
   "outputs": [],
   "source": [
    "\n",
    "def pretty_display():\n",
    "    df = pd.DataFrame(attendance_arr,index=name_list, columns=day_list)\n",
    "    df['Total Attendance'] = [ x['attendance'] for x in filter_attendance(0)]\n",
    "    df['%'] = [ x['attendance'] for x in student_percentage()]\n",
    "\n",
    "    dayData = [x['attendance'] for x in filter_day(0)]\n",
    "    dayDF = pd.DataFrame( dayData , index=day_list, columns=['Total'])\n",
    "    dayDF = dayDF.transpose()\n",
    "\n",
    "    df = df.append(dayDF)\n",
    "\n",
    "    dayPercentageData = [x['percentage'] for x in attendance_percentage()]\n",
    "    dayPercentageDF = pd.DataFrame( dayPercentageData , index=day_list, columns=['Percentage'])\n",
    "    dayPercentageDF = dayPercentageDF.transpose()\n",
    "\n",
    "    df = df.append(dayPercentageDF)\n",
    "\n",
    "    df = df.fillna('')\n",
    "    \n",
    "    return df"
   ]
  },
  {
   "cell_type": "code",
   "execution_count": 118,
   "metadata": {},
   "outputs": [
    {
     "data": {
      "text/html": [
       "<div>\n",
       "<style scoped>\n",
       "    .dataframe tbody tr th:only-of-type {\n",
       "        vertical-align: middle;\n",
       "    }\n",
       "\n",
       "    .dataframe tbody tr th {\n",
       "        vertical-align: top;\n",
       "    }\n",
       "\n",
       "    .dataframe thead th {\n",
       "        text-align: right;\n",
       "    }\n",
       "</style>\n",
       "<table border=\"1\" class=\"dataframe\">\n",
       "  <thead>\n",
       "    <tr style=\"text-align: right;\">\n",
       "      <th></th>\n",
       "      <th>Sunday</th>\n",
       "      <th>Monday</th>\n",
       "      <th>Tuesday</th>\n",
       "      <th>Wednesday</th>\n",
       "      <th>Thursday</th>\n",
       "      <th>Friday</th>\n",
       "      <th>Saturday</th>\n",
       "      <th>Total Attendance</th>\n",
       "      <th>%</th>\n",
       "    </tr>\n",
       "  </thead>\n",
       "  <tbody>\n",
       "    <tr>\n",
       "      <th>Ali</th>\n",
       "      <td>1</td>\n",
       "      <td>1</td>\n",
       "      <td>0</td>\n",
       "      <td>1</td>\n",
       "      <td>1</td>\n",
       "      <td>1</td>\n",
       "      <td>1</td>\n",
       "      <td>6</td>\n",
       "      <td>85.71%</td>\n",
       "    </tr>\n",
       "    <tr>\n",
       "      <th>Ahmad</th>\n",
       "      <td>0</td>\n",
       "      <td>1</td>\n",
       "      <td>1</td>\n",
       "      <td>0</td>\n",
       "      <td>1</td>\n",
       "      <td>0</td>\n",
       "      <td>1</td>\n",
       "      <td>4</td>\n",
       "      <td>57.14%</td>\n",
       "    </tr>\n",
       "    <tr>\n",
       "      <th>Beng</th>\n",
       "      <td>0</td>\n",
       "      <td>1</td>\n",
       "      <td>0</td>\n",
       "      <td>1</td>\n",
       "      <td>1</td>\n",
       "      <td>0</td>\n",
       "      <td>1</td>\n",
       "      <td>4</td>\n",
       "      <td>57.14%</td>\n",
       "    </tr>\n",
       "    <tr>\n",
       "      <th>Chris</th>\n",
       "      <td>1</td>\n",
       "      <td>1</td>\n",
       "      <td>0</td>\n",
       "      <td>1</td>\n",
       "      <td>1</td>\n",
       "      <td>0</td>\n",
       "      <td>0</td>\n",
       "      <td>4</td>\n",
       "      <td>57.14%</td>\n",
       "    </tr>\n",
       "    <tr>\n",
       "      <th>Sita</th>\n",
       "      <td>1</td>\n",
       "      <td>1</td>\n",
       "      <td>1</td>\n",
       "      <td>1</td>\n",
       "      <td>1</td>\n",
       "      <td>0</td>\n",
       "      <td>0</td>\n",
       "      <td>5</td>\n",
       "      <td>71.43%</td>\n",
       "    </tr>\n",
       "    <tr>\n",
       "      <th>Marion</th>\n",
       "      <td>1</td>\n",
       "      <td>1</td>\n",
       "      <td>1</td>\n",
       "      <td>1</td>\n",
       "      <td>1</td>\n",
       "      <td>0</td>\n",
       "      <td>0</td>\n",
       "      <td>5</td>\n",
       "      <td>71.43%</td>\n",
       "    </tr>\n",
       "    <tr>\n",
       "      <th>Stephen</th>\n",
       "      <td>0</td>\n",
       "      <td>1</td>\n",
       "      <td>1</td>\n",
       "      <td>0</td>\n",
       "      <td>1</td>\n",
       "      <td>1</td>\n",
       "      <td>1</td>\n",
       "      <td>5</td>\n",
       "      <td>71.43%</td>\n",
       "    </tr>\n",
       "    <tr>\n",
       "      <th>Cobby</th>\n",
       "      <td>1</td>\n",
       "      <td>1</td>\n",
       "      <td>1</td>\n",
       "      <td>0</td>\n",
       "      <td>1</td>\n",
       "      <td>1</td>\n",
       "      <td>1</td>\n",
       "      <td>6</td>\n",
       "      <td>85.71%</td>\n",
       "    </tr>\n",
       "    <tr>\n",
       "      <th>Akmal</th>\n",
       "      <td>0</td>\n",
       "      <td>1</td>\n",
       "      <td>1</td>\n",
       "      <td>0</td>\n",
       "      <td>1</td>\n",
       "      <td>1</td>\n",
       "      <td>1</td>\n",
       "      <td>5</td>\n",
       "      <td>71.43%</td>\n",
       "    </tr>\n",
       "    <tr>\n",
       "      <th>Nita</th>\n",
       "      <td>1</td>\n",
       "      <td>1</td>\n",
       "      <td>1</td>\n",
       "      <td>1</td>\n",
       "      <td>1</td>\n",
       "      <td>1</td>\n",
       "      <td>1</td>\n",
       "      <td>7</td>\n",
       "      <td>100.00%</td>\n",
       "    </tr>\n",
       "    <tr>\n",
       "      <th>Total</th>\n",
       "      <td>6</td>\n",
       "      <td>10</td>\n",
       "      <td>7</td>\n",
       "      <td>6</td>\n",
       "      <td>10</td>\n",
       "      <td>5</td>\n",
       "      <td>7</td>\n",
       "      <td></td>\n",
       "      <td></td>\n",
       "    </tr>\n",
       "    <tr>\n",
       "      <th>Percentage</th>\n",
       "      <td>60.0%</td>\n",
       "      <td>100.0%</td>\n",
       "      <td>70.0%</td>\n",
       "      <td>60.0%</td>\n",
       "      <td>100.0%</td>\n",
       "      <td>50.0%</td>\n",
       "      <td>70.0%</td>\n",
       "      <td></td>\n",
       "      <td></td>\n",
       "    </tr>\n",
       "  </tbody>\n",
       "</table>\n",
       "</div>"
      ],
      "text/plain": [
       "           Sunday  Monday Tuesday Wednesday Thursday Friday Saturday  \\\n",
       "Ali             1       1       0         1        1      1        1   \n",
       "Ahmad           0       1       1         0        1      0        1   \n",
       "Beng            0       1       0         1        1      0        1   \n",
       "Chris           1       1       0         1        1      0        0   \n",
       "Sita            1       1       1         1        1      0        0   \n",
       "Marion          1       1       1         1        1      0        0   \n",
       "Stephen         0       1       1         0        1      1        1   \n",
       "Cobby           1       1       1         0        1      1        1   \n",
       "Akmal           0       1       1         0        1      1        1   \n",
       "Nita            1       1       1         1        1      1        1   \n",
       "Total           6      10       7         6       10      5        7   \n",
       "Percentage  60.0%  100.0%   70.0%     60.0%   100.0%  50.0%    70.0%   \n",
       "\n",
       "           Total Attendance        %  \n",
       "Ali                       6   85.71%  \n",
       "Ahmad                     4   57.14%  \n",
       "Beng                      4   57.14%  \n",
       "Chris                     4   57.14%  \n",
       "Sita                      5   71.43%  \n",
       "Marion                    5   71.43%  \n",
       "Stephen                   5   71.43%  \n",
       "Cobby                     6   85.71%  \n",
       "Akmal                     5   71.43%  \n",
       "Nita                      7  100.00%  \n",
       "Total                                 \n",
       "Percentage                            "
      ]
     },
     "metadata": {},
     "output_type": "display_data"
    }
   ],
   "source": [
    "display(pretty_display())"
   ]
  }
 ],
 "metadata": {
  "kernelspec": {
   "display_name": "Python 3",
   "language": "python",
   "name": "python3"
  },
  "language_info": {
   "codemirror_mode": {
    "name": "ipython",
    "version": 3
   },
   "file_extension": ".py",
   "mimetype": "text/x-python",
   "name": "python",
   "nbconvert_exporter": "python",
   "pygments_lexer": "ipython3",
   "version": "3.8.3"
  }
 },
 "nbformat": 4,
 "nbformat_minor": 4
}
