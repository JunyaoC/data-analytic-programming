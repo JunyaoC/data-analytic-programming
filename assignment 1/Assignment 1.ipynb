{
 "cells": [
  {
   "cell_type": "markdown",
   "metadata": {},
   "source": [
    "### ASSIGNMENT 1 \n",
    "\n",
    "**NAME:** Chan Jun Yao\n",
    "\n",
    "**MATRIC:** A18CS0043\n",
    "\n",
    "**Topic: Data Structure, Functions and Files in Python**\n",
    "- Due: 1 week from announcement.\n",
    "- Mode: Individual\n",
    "- Submission: E-Learning\n",
    "\n",
    "Given a data file that consists of an example daily sale information recorded manually for each of the transaction for a certain period. The information in the file consists of date, item name, amount sold, and price per unit.\n",
    "\n",
    "<br>\n",
    "<img src='Fig1.png' width='300px'>\n",
    "The sample of the data\n",
    "\n",
    "**INSTRUCTIONS:**\n",
    "1. Reads the data file in Python.\n",
    "2. Creates a function in Python called: **calculate_daily_sale** that:\n",
    "   - Able to calculate and return the sale of each item for every day.\n",
    "   - You need to determine the data structure for the returned information, where the returned result should be able to be accessed to show the sale of exact item on a specified day. E.g.: \n",
    "      - ```result[“2020-09-25”]``` *will returns the sale for each item on that day.*\n",
    "      - ```result[“2020-09-25”][“Item_B”]``` *will returns the sale of Item B on that day.*\n",
    "3. Creates a function in Python called: **get_total_sale** that:\n",
    "   - Able to combine the sale of a specific item throughout the period in the data file.\n",
    "   - The function should receive ONE argument:\n",
    "     - The result variable returned form **calculate_daily_sale**\n",
    "   - The function should return the total sale of each item throughout the period.\n",
    "4. Submit your Python Notebook in the E-Learning."
   ]
  },
  {
   "cell_type": "markdown",
   "metadata": {},
   "source": [
    "😺 View it on GitHub:https://go.midknight.co/t3c"
   ]
  },
  {
   "cell_type": "markdown",
   "metadata": {},
   "source": [
    "Before we can do any calculations, we need to read and structure the data. The data source is a text file, where each row consist 4 data namely **Date, Item Name, Amount and Price**. Below is my attempt to structure the data into Dictionary format.\n",
    "\n",
    "One thing worth pointing out is to cast the data into float to retain precision."
   ]
  },
  {
   "cell_type": "code",
   "execution_count": 1,
   "metadata": {},
   "outputs": [],
   "source": [
    "def read_sales_data(filename):\n",
    "    \n",
    "    result = {}  #this will be the result dictionary\n",
    "    \n",
    "    with open(filename) as dataFile:\n",
    "        lines = [ line.rstrip() for line in dataFile ]  #reading line by line into the lines data\n",
    "    \n",
    "    for index,line in enumerate(lines):\n",
    "        [date,item,amount,price] = line.split(\" \")\n",
    "                        \n",
    "        if date in result:  #if the date is already existed/record in the dictionary\n",
    "            if item in result[date]:  #and the item key also already exist\n",
    "                result[date][item] = float(result[date][item]) + float(int(amount) * float(price))  #we will sum up the price\n",
    "            else:\n",
    "                result[date][item] = float(int(amount) * float(price)) #else we will declare it straight away, assigning the value\n",
    "        else:\n",
    "            result[date] = {\n",
    "                item: float(int(amount) * float(price))\n",
    "            }\n",
    "            \n",
    "    return result"
   ]
  },
  {
   "cell_type": "markdown",
   "metadata": {},
   "source": [
    "Soon after we prepared our dictionary, we then can calcaulate daily sale by adding up each item's sale"
   ]
  },
  {
   "cell_type": "code",
   "execution_count": 2,
   "metadata": {},
   "outputs": [],
   "source": [
    "def calculate_daily_sale(data):\n",
    "    \n",
    "    dailySaleData = {}\n",
    "    \n",
    "    for key,day in enumerate(data):\n",
    "        dailyTotal = 0\n",
    "        for item in data[day]:\n",
    "            dailyTotal = dailyTotal + float(data[day][item])\n",
    "        dailySaleData[day] = dailyTotal\n",
    "    \n",
    "    return dailySaleData"
   ]
  },
  {
   "cell_type": "markdown",
   "metadata": {},
   "source": [
    "To calculate total, we add up the daily sales, using the function we had written earlier"
   ]
  },
  {
   "cell_type": "code",
   "execution_count": 3,
   "metadata": {},
   "outputs": [],
   "source": [
    "def get_total_sale(data):\n",
    "    daySale = calculate_daily_sale(data)\n",
    "    total = 0\n",
    "    for key,sale in enumerate(daySale):\n",
    "        total = int(total) + daySale[sale]\n",
    "    return total"
   ]
  },
  {
   "cell_type": "markdown",
   "metadata": {},
   "source": [
    "By now, our solution should be fine already. This display_df is just for displaying the data in a table form for better presentation."
   ]
  },
  {
   "cell_type": "code",
   "execution_count": 4,
   "metadata": {},
   "outputs": [],
   "source": [
    "def display_df(result,dailySales):\n",
    "    resultDf = pd.DataFrame(list(result.items()),columns = ['Date','item_sale'])\n",
    "    resultDf = pd.concat([resultDf.item_sale.apply(pd.Series), resultDf.drop('item_sale', axis=1)], axis=1)\n",
    "    dsDF = pd.DataFrame(list(dailySales.items()),columns = ['Date','Daily Sales'])\n",
    "    df = pd.concat([dsDF,resultDf.drop('Date',axis=1)],axis=1)\n",
    "    display(df)\n",
    "    "
   ]
  },
  {
   "cell_type": "markdown",
   "metadata": {},
   "source": [
    "Last but not least, we will run our solution!"
   ]
  },
  {
   "cell_type": "code",
   "execution_count": 5,
   "metadata": {},
   "outputs": [
    {
     "data": {
      "text/html": [
       "<div>\n",
       "<style scoped>\n",
       "    .dataframe tbody tr th:only-of-type {\n",
       "        vertical-align: middle;\n",
       "    }\n",
       "\n",
       "    .dataframe tbody tr th {\n",
       "        vertical-align: top;\n",
       "    }\n",
       "\n",
       "    .dataframe thead th {\n",
       "        text-align: right;\n",
       "    }\n",
       "</style>\n",
       "<table border=\"1\" class=\"dataframe\">\n",
       "  <thead>\n",
       "    <tr style=\"text-align: right;\">\n",
       "      <th></th>\n",
       "      <th>Date</th>\n",
       "      <th>Daily Sales</th>\n",
       "      <th>Item_A</th>\n",
       "      <th>Item_B</th>\n",
       "      <th>Item_C</th>\n",
       "      <th>Item_D</th>\n",
       "      <th>Item_E</th>\n",
       "      <th>Item_F</th>\n",
       "    </tr>\n",
       "  </thead>\n",
       "  <tbody>\n",
       "    <tr>\n",
       "      <th>0</th>\n",
       "      <td>2020-09-23</td>\n",
       "      <td>24.1</td>\n",
       "      <td>13.3</td>\n",
       "      <td>10.8</td>\n",
       "      <td>NaN</td>\n",
       "      <td>NaN</td>\n",
       "      <td>NaN</td>\n",
       "      <td>NaN</td>\n",
       "    </tr>\n",
       "    <tr>\n",
       "      <th>1</th>\n",
       "      <td>2020-09-24</td>\n",
       "      <td>37.5</td>\n",
       "      <td>24.7</td>\n",
       "      <td>2.4</td>\n",
       "      <td>10.4</td>\n",
       "      <td>NaN</td>\n",
       "      <td>NaN</td>\n",
       "      <td>NaN</td>\n",
       "    </tr>\n",
       "    <tr>\n",
       "      <th>2</th>\n",
       "      <td>2020-09-25</td>\n",
       "      <td>73.5</td>\n",
       "      <td>28.5</td>\n",
       "      <td>7.2</td>\n",
       "      <td>NaN</td>\n",
       "      <td>37.8</td>\n",
       "      <td>NaN</td>\n",
       "      <td>NaN</td>\n",
       "    </tr>\n",
       "    <tr>\n",
       "      <th>3</th>\n",
       "      <td>2020-09-26</td>\n",
       "      <td>67.1</td>\n",
       "      <td>17.1</td>\n",
       "      <td>39.6</td>\n",
       "      <td>10.4</td>\n",
       "      <td>NaN</td>\n",
       "      <td>NaN</td>\n",
       "      <td>NaN</td>\n",
       "    </tr>\n",
       "    <tr>\n",
       "      <th>4</th>\n",
       "      <td>2020-09-27</td>\n",
       "      <td>67.9</td>\n",
       "      <td>3.8</td>\n",
       "      <td>3.6</td>\n",
       "      <td>15.6</td>\n",
       "      <td>40.5</td>\n",
       "      <td>4.4</td>\n",
       "      <td>NaN</td>\n",
       "    </tr>\n",
       "    <tr>\n",
       "      <th>5</th>\n",
       "      <td>2020-09-28</td>\n",
       "      <td>107.1</td>\n",
       "      <td>32.3</td>\n",
       "      <td>7.2</td>\n",
       "      <td>14.3</td>\n",
       "      <td>29.7</td>\n",
       "      <td>4.4</td>\n",
       "      <td>19.2</td>\n",
       "    </tr>\n",
       "    <tr>\n",
       "      <th>6</th>\n",
       "      <td>2020-09-29</td>\n",
       "      <td>46.5</td>\n",
       "      <td>28.5</td>\n",
       "      <td>18.0</td>\n",
       "      <td>NaN</td>\n",
       "      <td>NaN</td>\n",
       "      <td>NaN</td>\n",
       "      <td>NaN</td>\n",
       "    </tr>\n",
       "    <tr>\n",
       "      <th>7</th>\n",
       "      <td>2020-09-30</td>\n",
       "      <td>106.5</td>\n",
       "      <td>11.4</td>\n",
       "      <td>7.2</td>\n",
       "      <td>31.2</td>\n",
       "      <td>45.9</td>\n",
       "      <td>4.4</td>\n",
       "      <td>6.4</td>\n",
       "    </tr>\n",
       "  </tbody>\n",
       "</table>\n",
       "</div>"
      ],
      "text/plain": [
       "         Date  Daily Sales  Item_A  Item_B  Item_C  Item_D  Item_E  Item_F\n",
       "0  2020-09-23         24.1    13.3    10.8     NaN     NaN     NaN     NaN\n",
       "1  2020-09-24         37.5    24.7     2.4    10.4     NaN     NaN     NaN\n",
       "2  2020-09-25         73.5    28.5     7.2     NaN    37.8     NaN     NaN\n",
       "3  2020-09-26         67.1    17.1    39.6    10.4     NaN     NaN     NaN\n",
       "4  2020-09-27         67.9     3.8     3.6    15.6    40.5     4.4     NaN\n",
       "5  2020-09-28        107.1    32.3     7.2    14.3    29.7     4.4    19.2\n",
       "6  2020-09-29         46.5    28.5    18.0     NaN     NaN     NaN     NaN\n",
       "7  2020-09-30        106.5    11.4     7.2    31.2    45.9     4.4     6.4"
      ]
     },
     "metadata": {},
     "output_type": "display_data"
    },
    {
     "name": "stdout",
     "output_type": "stream",
     "text": [
      "Total sales: 527.5\n",
      "\n",
      "Validate: print the given syntax in the question.\n",
      "\n",
      "{'Item_D': 37.800000000000004, 'Item_A': 28.5, 'Item_B': 7.199999999999999}\n",
      "7.199999999999999\n"
     ]
    }
   ],
   "source": [
    "import pandas as pd\n",
    "\n",
    "result = read_sales_data('data_assignment_1.txt')\n",
    "dailySales = calculate_daily_sale(result)\n",
    "totalSales = get_total_sale(result)\n",
    "\n",
    "display_df(result,dailySales)\n",
    "\n",
    "print('Total sales: ' + str(totalSales))\n",
    "\n",
    "# VERFIY\n",
    "\n",
    "print('\\nValidate: print the given syntax in the question.\\n')\n",
    "\n",
    "print(result['2020-09-25'])\n",
    "print(result['2020-09-25']['Item_B'])"
   ]
  }
 ],
 "metadata": {
  "kernelspec": {
   "display_name": "Python 3",
   "language": "python",
   "name": "python3"
  },
  "language_info": {
   "codemirror_mode": {
    "name": "ipython",
    "version": 3
   },
   "file_extension": ".py",
   "mimetype": "text/x-python",
   "name": "python",
   "nbconvert_exporter": "python",
   "pygments_lexer": "ipython3",
   "version": "3.8.3"
  }
 },
 "nbformat": 4,
 "nbformat_minor": 4
}
